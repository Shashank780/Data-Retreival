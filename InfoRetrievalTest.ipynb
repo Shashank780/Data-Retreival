{
  "cells": [
    {
      "cell_type": "code",
      "execution_count": null,
      "metadata": {
        "id": "aCPI45jsEWgy"
      },
      "outputs": [],
      "source": [
        "import os\n",
        "import re\n",
        "import nltk\n",
        "from nltk.stem import PorterStemmer"
      ]
    },
    {
      "cell_type": "markdown",
      "metadata": {
        "id": "TUKpokWipXkE"
      },
      "source": []
    },
    {
      "cell_type": "code",
      "execution_count": null,
      "metadata": {
        "id": "EfYlvRrWpqLq"
      },
      "outputs": [],
      "source": [
        "import os\n",
        "import glob\n",
        "import chardet\n",
        "\n",
        "def extract_paragraphs(folder_path):\n",
        "    paragraphs = {}\n",
        "    count = 1\n",
        "\n",
        "    for filename in glob.glob(os.path.join(folder_path, '*.txt')):\n",
        "        with open(filename, 'rb') as file:\n",
        "            result = chardet.detect(file.read())\n",
        "            encoding = result['encoding']\n",
        "\n",
        "        with open(filename, encoding=encoding) as file:\n",
        "            n1=filename.rfind('\\\\')\n",
        "            n1+=1\n",
        "            n2=filename.rfind('.')\n",
        "            filenamee=filename[n1:n2:1]\n",
        "            text = file.read().encode('UTF-8').decode()#extracting text\n",
        "\n",
        "            file_paragraphs = text.split('\\n\\n') #extracting paragraphs by splitting text\n",
        "\n",
        "            for para in file_paragraphs:\n",
        "                paragraphs[count]=[para,count,filenamee]\n",
        "                count+=1\n",
        "\n",
        "    return paragraphs\n",
        "\n",
        "filepath=r'/content/dataset'\n",
        "\n",
        "ulist=extract_paragraphs(filepath)\n",
        "# print(paras)"
      ]
    },
    {
      "cell_type": "code",
      "execution_count": null,
      "metadata": {
        "id": "LRBqMr2TSYUC"
      },
      "outputs": [],
      "source": [
        "text= \"\"\n",
        "for value in ulist.values():\n",
        "    text = text + value[0]\n",
        "    text = text + \" \""
      ]
    },
    {
      "cell_type": "code",
      "execution_count": null,
      "metadata": {
        "id": "j2S3KdYqTAZw"
      },
      "outputs": [],
      "source": [
        "# function to split the text into words and convert them all to lowercase (using re library)\n",
        "# text --> lower case words\n",
        "def SplitAndLowerText(text):\n",
        "    #[^A-Za-z\\'']+   --> regex for non-aplhabetic chars (and apostrophe) occuring 1 or more times [used as seperator for split]\n",
        "    words = re.split('[^A-Za-z\\']+',text)\n",
        "    #converting all words to lower case to standardize\n",
        "    lower_case_words=[word.lower() for word in words]\n",
        "    return lower_case_words\n",
        "\n",
        "\n",
        "# function to remove stopwords from list of words and return a list of cleaned words\n",
        "# lower case words --> cleaned words\n",
        "def StopwordsRemoval(words):\n",
        "    import nltk\n",
        "    nltk.download('stopwords')\n",
        "    from nltk.corpus import stopwords\n",
        "    stopwords_nltk=set(stopwords.words('english'))\n",
        "    cleaned_words=[word for word in words if word not in stopwords_nltk]\n",
        "    return cleaned_words\n",
        "\n",
        "\n",
        "# function to remove duplicates and return list of unique words\n",
        "# cleaned words --> unique words\n",
        "def RemoveDuplicates(words):\n",
        "    unique_words=[]\n",
        "    for word in words:\n",
        "        if word not in unique_words:\n",
        "            unique_words.append(word)\n",
        "    return unique_words\n",
        "\n",
        "\n",
        "# function to perform stemming on words list\n",
        "# unique words --> stemmed words\n",
        "def Stemmer(words):\n",
        "    from nltk.stem import PorterStemmer\n",
        "    stemmed_words=[]\n",
        "    for word in words:\n",
        "        stemmed_words.append(PorterStemmer().stem(word))\n",
        "    return stemmed_words"
      ]
    },
    {
      "cell_type": "code",
      "execution_count": null,
      "metadata": {
        "id": "nIx3c9JBUHBj"
      },
      "outputs": [],
      "source": [
        "#function to create dictiionary from unique and stemmed words\n",
        "def GenerateDictionaryV2(UniqueWords, StemmedWords, ulist):\n",
        "    dict={}\n",
        "    for word in StemmedWords:\n",
        "        dict[word]=[]\n",
        "        \n",
        "    for word in UniqueWords:\n",
        "      for obj in ulist.values():\n",
        "        text = \"\"\n",
        "        text = text + str(obj[0])\n",
        "        if word in text.lower():\n",
        "          x = int(obj[1])\n",
        "          if x not in dict[PorterStemmer().stem(word)]:\n",
        "            dict[PorterStemmer().stem(word)].append(x)\n",
        "\n",
        "    return dict"
      ]
    },
    {
      "cell_type": "code",
      "execution_count": null,
      "metadata": {
        "id": "0AVPjZTjXZCp"
      },
      "outputs": [],
      "source": [
        "def StringMatch(strr, pattern, slen, plen):\n",
        " \n",
        "    # empty pattern (plen=0) can only match with empty string\n",
        "    if (plen == 0):\n",
        "        return (slen == 0)\n",
        " \n",
        "    # creating 2D array of 0-M X 0-N to store subsolutions \n",
        "    lookup = [[False for i in range(plen + 1)] for j in range(slen + 1)]\n",
        " \n",
        "    # empty pattern matches with empty string\n",
        "    lookup[0][0] = True\n",
        " \n",
        "    # only '*' can match with empty string\n",
        "    for j in range(1, plen + 1):\n",
        "        if (pattern[j - 1] == '*'):\n",
        "            lookup[0][j] = lookup[0][j - 1]\n",
        " \n",
        "    # filling the table by following the rules below\n",
        "    for i in range(1, slen + 1):\n",
        "        for j in range(1, plen + 1):\n",
        " \n",
        "            # if last char of pattern is '*': \n",
        "            # (a) either * is zero chars  \n",
        "            #       --> solution for [i][j-1] is applicable\n",
        "            # (b) * is a char \\\n",
        "            #       --> solution for [i-1][j] is applicable (since extra char from string is encorporated in *)\n",
        "            if (pattern[j - 1] == '*'):\n",
        "                lookup[i][j] = lookup[i][j - 1] or lookup[i - 1][j]\n",
        " \n",
        "            # if last two chars of both are same or last char of pattern is '?', solution for [i-1][j-1] is applicable\n",
        "            elif ( (pattern[j - 1] == '?') or (strr[i - 1] == pattern[j - 1]) ):\n",
        "                lookup[i][j] = lookup[i - 1][j - 1]\n",
        "                \n",
        "            else:\n",
        "                lookup[i][j] = False\n",
        " \n",
        "    return lookup[slen][plen]"
      ]
    },
    {
      "cell_type": "code",
      "execution_count": null,
      "metadata": {
        "id": "U4odRSURXn08"
      },
      "outputs": [],
      "source": [
        "def EditDistance(str1, str2, len1, len2):\n",
        "    # creating 2D array of 0-len1 X 0-len2 to store subsolutions    \n",
        "    dp = [[0 for x in range(len2 + 1)] for x in range(len1 + 1)]\n",
        " \n",
        "    # filling 2D array \n",
        "    for i in range(len1 + 1):\n",
        "        for j in range(len2 + 1):\n",
        " \n",
        "            # if first string is empty, only way is to insert all characters of second string\n",
        "            if i == 0:\n",
        "                dp[i][j] = j    # Min. operations = j (length of second string)\n",
        " \n",
        "            # if second string is empty, only way is to remove all characters of first string\n",
        "            elif j == 0:\n",
        "                dp[i][j] = i    # Min. operations = i (length of first string)\n",
        " \n",
        "            # if last characters are same, then distance = d[i-1][j-1]\n",
        "            elif str1[i-1] == str2[j-1]:\n",
        "                dp[i][j] = dp[i-1][j-1]\n",
        " \n",
        "            # if last characters are different, consider insert(one char short)/remove(one extra char)/replace(diff char)\n",
        "            else:\n",
        "                dp[i][j] = 1 + min(dp[i][j-1],        # Insert\n",
        "                                   dp[i-1][j],        # Remove\n",
        "                                   dp[i-1][j-1])    # Replace\n",
        " \n",
        "    return dp[len1][len2]"
      ]
    },
    {
      "cell_type": "code",
      "execution_count": null,
      "metadata": {
        "id": "g4ukkSnCXdQD"
      },
      "outputs": [],
      "source": [
        "# function to spellcheck a word, returns word/closest word\n",
        "\n",
        "def SpellCheck(word, VocabList):\n",
        "    min = 10000\n",
        "    closest = \"\"\n",
        "    for x in VocabList:\n",
        "        if (StringMatch(x, word, len(x), len(word))):\n",
        "            return word\n",
        "        else:\n",
        "            distance = EditDistance(word, x, len(word), len(x))\n",
        "            if (distance < min):\n",
        "                min = distance\n",
        "                closest = x\n",
        "    return closest"
      ]
    },
    {
      "cell_type": "code",
      "execution_count": null,
      "metadata": {
        "id": "qkoxGbJCXvtH"
      },
      "outputs": [],
      "source": [
        "# defining bitwise functions (using lists)\n",
        "\n",
        "# bitwise AND\n",
        "def BitwiseAND(list1, list2):\n",
        "    bitwise_op = [w1 & w2 for (w1, w2) in zip(list1, list2)]\n",
        "    return bitwise_op\n",
        "\n",
        "# bitwise OR\n",
        "def BitwiseOR(list1, list2):\n",
        "    bitwise_op = [w1 | w2 for (w1, w2) in zip(list1, list2)]\n",
        "    return bitwise_op\n",
        "\n",
        "# bitwise NOT\n",
        "def BitwiseNOT(list1, list2):\n",
        "    bitwise_op = [not w1 for w1 in list2]\n",
        "    bitwise_op = [int(b == True) for b in bitwise_op]\n",
        "    bitwise_op = [w1 & w2 for (w1,w2) in zip(list1,bitwise_op)]\n",
        "    return bitwise_op"
      ]
    },
    {
      "cell_type": "code",
      "execution_count": null,
      "metadata": {
        "id": "vpNEDeHblYMI"
      },
      "outputs": [],
      "source": [
        " # EXECUTION\n",
        "def Execute(q_input):\n",
        "    if q_input == 1:\n",
        "      query_input = input(\"Enter the text or phrase here: \\n\")\n",
        "      lower_case_words_query = SplitAndLowerText(query_input)\n",
        "      cleaned_words_query = StopwordsRemoval(lower_case_words_query)\n",
        "      unique_words_query = RemoveDuplicates(cleaned_words_query)\n",
        "#      stemmed_words_query = Stemmer(unique_words_query)\n",
        "      # if(len(stemmed_words_query)>1):\n",
        "      #   query = []\n",
        "      #   for word in stemmed_words_query:\n",
        "      #       query.append(word)\n",
        "      #       query.append('and')\n",
        "      #   query.pop()\n",
        "      # else:\n",
        "      #   query = stemmed_words_query\n",
        "      if(len(unique_words_query)>1):\n",
        "          query = []\n",
        "          for word in unique_words_query:\n",
        "              query.append(word)\n",
        "              query.append('and')\n",
        "          query.pop()\n",
        "      else:\n",
        "          query = unique_words_query\n",
        "\n",
        "    elif q_input == 2:\n",
        "      query_input = input(\"Enter the text or phrase here: \\n\")\n",
        "      query = query_input.split()\n",
        "    else:\n",
        "      print(\"Selection invalid, Please select again!!\")\n",
        "      return\n",
        "\n",
        "    #boolean connectors\n",
        "    connecting_words = []\n",
        "    #content words\n",
        "    different_words = []\n",
        "\n",
        "    print(query)\n",
        "    for word in query:\n",
        "        if word.lower() != \"and\" and word.lower() != \"or\" and word.lower() != \"not\":\n",
        "            different_words.append(word.lower())\n",
        "        else:\n",
        "            connecting_words.append(word.lower())\n",
        "\n",
        "    zeroes_and_ones = []\n",
        "    zeroes_and_ones_of_all_words = []\n",
        "\n",
        "    for word in (different_words):\n",
        "        #if word is normal query\n",
        "        if word.isalpha():\n",
        "            closest = SpellCheck(word, unique_words)\n",
        "            if (word != closest): print(\"Word '\", word, \"' has been corrected to '\", closest, \"'\")\n",
        "            stemmed = PorterStemmer().stem(closest)\n",
        "            print(\"Stemmed word being searched:\", stemmed)\n",
        "            # zeroes_and_ones = [0] * (len(ulist)+1)\n",
        "            zeroes_and_ones = [0] * (len(ulist))           \n",
        "            for x in dictV2[stemmed]:\n",
        "              zeroes_and_ones[x] = 1\n",
        "            zeroes_and_ones_of_all_words.append(zeroes_and_ones)\n",
        "        \n",
        "        #if word in wildcary query\n",
        "        else:\n",
        "            matches = []\n",
        "            for x in unique_words:\n",
        "                if StringMatch(x, word, len(x), len(word)):\n",
        "                    matches.append(x)\n",
        "\n",
        "            stemmed_matches=[]\n",
        "            for x in matches:\n",
        "                stemmed = PorterStemmer().stem(x)\n",
        "                if stemmed not in stemmed_matches:\n",
        "                    stemmed_matches.append(stemmed)\n",
        "\n",
        "            zeroes_and_ones = [0] * len(ulist)\n",
        "            temp_zeroes_and_ones = [0] * len(ulist)\n",
        "            for match in stemmed_matches:\n",
        "                for x in dictV2[match]:\n",
        "                    temp_zeroes_and_ones[x] = 1\n",
        "                zeroes_and_ones = BitwiseOR(zeroes_and_ones, temp_zeroes_and_ones)\n",
        "            zeroes_and_ones_of_all_words.append(zeroes_and_ones)\n",
        "\n",
        "\n",
        "    for word in connecting_words:\n",
        "        # we take the first two words from query (for which the corresponding connecting_word is taken)\n",
        "        word_list1 = zeroes_and_ones_of_all_words[0]\n",
        "        word_list2 = zeroes_and_ones_of_all_words[1]\n",
        "\n",
        "        if word == \"and\":\n",
        "            # performs bitwise operation AND on the two lists\n",
        "            bitwise_op = BitwiseAND(word_list1,word_list2)\n",
        "            zeroes_and_ones_of_all_words.remove(word_list1)\n",
        "            zeroes_and_ones_of_all_words.remove(word_list2)\n",
        "            zeroes_and_ones_of_all_words.insert(0, bitwise_op)\n",
        "        elif word == \"or\":\n",
        "            # performs bitwise operation OR on the two lists\n",
        "            bitwise_op = BitwiseOR(word_list1,word_list2)\n",
        "            zeroes_and_ones_of_all_words.remove(word_list1)\n",
        "            zeroes_and_ones_of_all_words.remove(word_list2)\n",
        "            zeroes_and_ones_of_all_words.insert(0, bitwise_op)\n",
        "        elif word == \"not\":\n",
        "            # performs bitwise operation NOT on the two lists\n",
        "            bitwise_op = BitwiseNOT(word_list1,word_list2)\n",
        "            zeroes_and_ones_of_all_words.remove(word_list2)\n",
        "            zeroes_and_ones_of_all_words.remove(word_list1)\n",
        "            zeroes_and_ones_of_all_words.insert(0, bitwise_op)\n",
        "    # this results in a final list with bitwise operations done over the entire query\n",
        "\n",
        "    files_found = []    \n",
        "    if zeroes_and_ones_of_all_words:\n",
        "        index_list = zeroes_and_ones_of_all_words[0]\n",
        "    else:\n",
        "        index_list = []\n",
        "\n",
        "    for index in range(len(index_list)):\n",
        "        if index_list[index]==1:\n",
        "            files_found.append(ulist.get(index))\n",
        "\n",
        "    print(\"\\n Files Found:\",len(files_found))\n",
        "    for res in files_found:\n",
        "      print(res[0])\n",
        "      print(\"File ---> \" + res[2])\n",
        "      print(\"\\n\")"
      ]
    },
    {
      "cell_type": "code",
      "execution_count": null,
      "metadata": {
        "colab": {
          "base_uri": "https://localhost:8080/"
        },
        "id": "X2GoREdTYyiE",
        "outputId": "55305fef-6768-44e4-c9d2-6c252f10b44d"
      },
      "outputs": [
        {
          "output_type": "stream",
          "name": "stderr",
          "text": [
            "[nltk_data] Downloading package stopwords to /root/nltk_data...\n",
            "[nltk_data]   Package stopwords is already up-to-date!\n"
          ]
        }
      ],
      "source": [
        "# preprocessing\n",
        "lower_case_words = SplitAndLowerText(text)\n",
        "cleaned_words = StopwordsRemoval(lower_case_words)\n",
        "unique_words = RemoveDuplicates(cleaned_words)\n",
        "stemmed_words = Stemmer(unique_words)\n"
      ]
    },
    {
      "cell_type": "code",
      "execution_count": null,
      "metadata": {
        "id": "sdC2IFZDcIPI"
      },
      "outputs": [],
      "source": [
        "dictV2 = GenerateDictionaryV2(unique_words, stemmed_words, ulist)\n",
        "#dictV2"
      ]
    },
    {
      "cell_type": "code",
      "source": [
        "# TEST BLOCK\n",
        "Execute(2)"
      ],
      "metadata": {
        "colab": {
          "base_uri": "https://localhost:8080/"
        },
        "id": "NrzBuMga2CMV",
        "outputId": "c77d7b88-1bac-4be6-c591-29ebe0e3cd03"
      },
      "execution_count": null,
      "outputs": [
        {
          "output_type": "stream",
          "name": "stdout",
          "text": [
            "Enter the text or phrase here: \n",
            "commecial\n",
            "['commecial']\n",
            "Word ' commecial ' has been corrected to '  '\n",
            "Stemmed word being searched: \n",
            "\n",
            " Files Found: 0\n"
          ]
        }
      ]
    },
    {
      "cell_type": "code",
      "execution_count": null,
      "metadata": {
        "id": "jkBL-aBBo42k"
      },
      "outputs": [],
      "source": [
        "while(1):\n",
        "  user_input = int(input(\"Please choose \\n 0: Enter zero to exit \\n 1:If you want to search by Phrase or a Word \\n 2: If you want to search a Wildcard Query \\n \"))\n",
        "  if user_input == 0:\n",
        "    printf(\"see ya :)!!\")\n",
        "    break;\n",
        "  Execute(user_input)"
      ]
    },
    {
      "cell_type": "code",
      "source": [],
      "metadata": {
        "id": "avWt0rlH-CX4"
      },
      "execution_count": null,
      "outputs": []
    }
  ],
  "metadata": {
    "colab": {
      "provenance": []
    },
    "kernelspec": {
      "display_name": "Python 3",
      "name": "python3"
    },
    "language_info": {
      "name": "python"
    }
  },
  "nbformat": 4,
  "nbformat_minor": 0
}